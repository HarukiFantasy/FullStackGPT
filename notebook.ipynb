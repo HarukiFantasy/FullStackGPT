{
 "cells": [
  {
   "cell_type": "code",
   "execution_count": 39,
   "metadata": {},
   "outputs": [],
   "source": [
    "import os\n",
    "from dotenv import load_dotenv\n",
    "from langchain_community.tools import BraveSearch\n",
    "\n",
    "load_dotenv()\n",
    "BRAVESEARCH_API_KEY = os.getenv(\"BRAVESEARCH_API_KEY\")\n",
    "brv_tool = BraveSearch.from_api_key(api_key=BRAVESEARCH_API_KEY, search_kwargs={\"count\": 3})"
   ]
  },
  {
   "cell_type": "code",
   "execution_count": 40,
   "metadata": {},
   "outputs": [],
   "source": [
    "from langchain_community.tools import BraveSearch\n",
    "import yfinance\n",
    "import json\n",
    "\n",
    "def get_ticker(inputs):\n",
    "    company_name = inputs[\"company_name\"]\n",
    "    tool = BraveSearch.from_api_key(api_key=BRAVESEARCH_API_KEY, search_kwargs={\"count\": 3})\n",
    "    return tool.run(f\"ticker symbol of {company_name}\")\n",
    "\n",
    "\n",
    "def get_income_statement(inputs):\n",
    "    ticker = inputs[\"ticker\"]\n",
    "    stock = yfinance.Ticker(ticker)\n",
    "    return json.dumps(stock.income_stmt.to_json())\n",
    "\n",
    "\n",
    "def get_balance_sheet(inputs):\n",
    "    ticker = inputs[\"ticker\"]\n",
    "    stock = yfinance.Ticker(ticker)\n",
    "    return json.dumps(stock.balance_sheet.to_json())\n",
    "\n",
    "\n",
    "def get_daily_stock_performance(inputs):\n",
    "    ticker = inputs[\"ticker\"]\n",
    "    stock = yfinance.Ticker(ticker)\n",
    "    return json.dumps(stock.history(period=\"3mo\").to_json())\n",
    "\n",
    "\n",
    "functions_map = {\n",
    "    \"get_ticker\": get_ticker,\n",
    "    \"get_income_statement\": get_income_statement,\n",
    "    \"get_balance_sheet\": get_balance_sheet,\n",
    "    \"get_daily_stock_performance\": get_daily_stock_performance,\n",
    "}\n",
    "\n",
    "\n",
    "functions = [\n",
    "    {\n",
    "        \"type\": \"function\",\n",
    "        \"function\": {\n",
    "            \"name\": \"get_ticker\",\n",
    "            \"description\": \"Given the name of a company returns its ticker symbol\",\n",
    "            \"parameters\": {\n",
    "                \"type\": \"object\",\n",
    "                \"properties\": {\n",
    "                    \"company_name\": {\n",
    "                        \"type\": \"string\",\n",
    "                        \"description\": \"The name of the company\",\n",
    "                    }\n",
    "                },\n",
    "                \"required\": [\"company_name\"],\n",
    "            },\n",
    "        },\n",
    "    },\n",
    "    {\n",
    "        \"type\": \"function\",\n",
    "        \"function\": {\n",
    "            \"name\": \"get_income_statement\",\n",
    "            \"description\": \"Given a ticker symbol (i.e AAPL) returns the company's income statement.\",\n",
    "            \"parameters\": {\n",
    "                \"type\": \"object\",\n",
    "                \"properties\": {\n",
    "                    \"ticker\": {\n",
    "                        \"type\": \"string\",\n",
    "                        \"description\": \"Ticker symbol of the company\",\n",
    "                    },\n",
    "                },\n",
    "                \"required\": [\"ticker\"],\n",
    "            },\n",
    "        },\n",
    "    },\n",
    "    {\n",
    "        \"type\": \"function\",\n",
    "        \"function\": {\n",
    "            \"name\": \"get_balance_sheet\",\n",
    "            \"description\": \"Given a ticker symbol (i.e AAPL) returns the company's balance sheet.\",\n",
    "            \"parameters\": {\n",
    "                \"type\": \"object\",\n",
    "                \"properties\": {\n",
    "                    \"ticker\": {\n",
    "                        \"type\": \"string\",\n",
    "                        \"description\": \"Ticker symbol of the company\",\n",
    "                    },\n",
    "                },\n",
    "                \"required\": [\"ticker\"],\n",
    "            },\n",
    "        },\n",
    "    },\n",
    "    {\n",
    "        \"type\": \"function\",\n",
    "        \"function\": {\n",
    "            \"name\": \"get_daily_stock_performance\",\n",
    "            \"description\": \"Given a ticker symbol (i.e AAPL) returns the performance of the stock for the last 100 days.\",\n",
    "            \"parameters\": {\n",
    "                \"type\": \"object\",\n",
    "                \"properties\": {\n",
    "                    \"ticker\": {\n",
    "                        \"type\": \"string\",\n",
    "                        \"description\": \"Ticker symbol of the company\",\n",
    "                    },\n",
    "                },\n",
    "                \"required\": [\"ticker\"],\n",
    "            },\n",
    "        },\n",
    "    },\n",
    "]"
   ]
  },
  {
   "cell_type": "code",
   "execution_count": 41,
   "metadata": {},
   "outputs": [
    {
     "data": {
      "text/plain": [
       "'[{\"title\": \"Tesla, Inc. (TSLA) Stock Price, News, Quote & History - Yahoo Finance\", \"link\": \"https://finance.yahoo.com/quote/TSLA/\", \"snippet\": \"Find the latest <strong>Tesla, Inc.</strong> (TSLA) stock quote, history, news and other vital information to help you with your stock trading and investing.\"}, {\"title\": \"Tesla, Inc. (TSLA) Stock Price, News, Quotes, & Historic Data | Nasdaq\", \"link\": \"https://www.nasdaq.com/market-activity/stocks/tsla\", \"snippet\": \"Discover real-time <strong>Tesla</strong>, Inc. Common Stock (TSLA) stock prices, quotes, historical data, news, and Insights for informed trading and investment decisions. Stay ahead with Nasdaq.\"}, {\"title\": \"TSLA Stock Price | Tesla Inc. Stock Quote (U.S.: Nasdaq) | MarketWatch\", \"link\": \"https://www.marketwatch.com/investing/stock/tsla\", \"snippet\": \"TSLA | Complete <strong>Tesla</strong> Inc. stock news by MarketWatch. View real-time stock prices and stock quotes for a full financial overview.\"}]'"
      ]
     },
     "execution_count": 41,
     "metadata": {},
     "output_type": "execute_result"
    }
   ],
   "source": [
    "get_ticker({\"company_name\":\"tesla\"})"
   ]
  },
  {
   "cell_type": "code",
   "execution_count": 43,
   "metadata": {},
   "outputs": [
    {
     "data": {
      "text/plain": [
       "'\"{\\\\\"1735603200000\\\\\":{\\\\\"Tax Effect Of Unusual Items\\\\\":-136800000.0,\\\\\"Tax Rate For Calcs\\\\\":0.2,\\\\\"Normalized EBITDA\\\\\":15392000000.0,\\\\\"Total Unusual Items\\\\\":-684000000.0,\\\\\"Total Unusual Items Excluding Goodwill\\\\\":-684000000.0,\\\\\"Net Income From Continuing Operation Net Minority Interest\\\\\":7130000000.0,\\\\\"Reconciled Depreciation\\\\\":5368000000.0,\\\\\"Reconciled Cost Of Revenue\\\\\":80240000000.0,\\\\\"EBITDA\\\\\":14708000000.0,\\\\\"EBIT\\\\\":9340000000.0,\\\\\"Net Interest Income\\\\\":1219000000.0,\\\\\"Interest Expense\\\\\":350000000.0,\\\\\"Interest Income\\\\\":1569000000.0,\\\\\"Normalized Income\\\\\":7677200000.0,\\\\\"Net Income From Continuing And Discontinued Operation\\\\\":7130000000.0,\\\\\"Total Expenses\\\\\":89930000000.0,\\\\\"Rent Expense Supplemental\\\\\":1003000000.0,\\\\\"Total Operating Income As Reported\\\\\":7076000000.0,\\\\\"Diluted Average Shares\\\\\":null,\\\\\"Basic Average Shares\\\\\":null,\\\\\"Diluted EPS\\\\\":null,\\\\\"Basic EPS\\\\\":null,\\\\\"Diluted NI Availto Com Stockholders\\\\\":7130000000.0,\\\\\"Average Dilution Earnings\\\\\":0.0,\\\\\"Net Income Common Stockholders\\\\\":7130000000.0,\\\\\"Otherunder Preferred Stock Dividend\\\\\":null,\\\\\"Net Income\\\\\":7130000000.0,\\\\\"Minority Interests\\\\\":-23000000.0,\\\\\"Net Income Including Noncontrolling Interests\\\\\":7153000000.0,\\\\\"Net Income Continuous Operations\\\\\":7153000000.0,\\\\\"Tax Provision\\\\\":1837000000.0,\\\\\"Pretax Income\\\\\":8990000000.0,\\\\\"Other Income Expense\\\\\":11000000.0,\\\\\"Other Non Operating Income Expenses\\\\\":695000000.0,\\\\\"Special Income Charges\\\\\":-684000000.0,\\\\\"Restructuring And Mergern Acquisition\\\\\":684000000.0,\\\\\"Net Non Operating Interest Income Expense\\\\\":1219000000.0,\\\\\"Interest Expense Non Operating\\\\\":350000000.0,\\\\\"Interest Income Non Operating\\\\\":1569000000.0,\\\\\"Operating Income\\\\\":7760000000.0,\\\\\"Operating Expense\\\\\":9690000000.0,\\\\\"Research And Development\\\\\":4540000000.0,\\\\\"Selling General And Administration\\\\\":5150000000.0,\\\\\"Gross Profit\\\\\":17450000000.0,\\\\\"Cost Of Revenue\\\\\":80240000000.0,\\\\\"Total Revenue\\\\\":97690000000.0,\\\\\"Operating Revenue\\\\\":97690000000.0},\\\\\"1703980800000\\\\\":{\\\\\"Tax Effect Of Unusual Items\\\\\":0.0,\\\\\"Tax Rate For Calcs\\\\\":0.21,\\\\\"Normalized EBITDA\\\\\":14796000000.0,\\\\\"Total Unusual Items\\\\\":0.0,\\\\\"Total Unusual Items Excluding Goodwill\\\\\":0.0,\\\\\"Net Income From Continuing Operation Net Minority Interest\\\\\":14999000000.0,\\\\\"Reconciled Depreciation\\\\\":4667000000.0,\\\\\"Reconciled Cost Of Revenue\\\\\":79113000000.0,\\\\\"EBITDA\\\\\":14796000000.0,\\\\\"EBIT\\\\\":10129000000.0,\\\\\"Net Interest Income\\\\\":910000000.0,\\\\\"Interest Expense\\\\\":156000000.0,\\\\\"Interest Income\\\\\":1066000000.0,\\\\\"Normalized Income\\\\\":14999000000.0,\\\\\"Net Income From Continuing And Discontinued Operation\\\\\":14999000000.0,\\\\\"Total Expenses\\\\\":87882000000.0,\\\\\"Rent Expense Supplemental\\\\\":1268000000.0,\\\\\"Total Operating Income As Reported\\\\\":8891000000.0,\\\\\"Diluted Average Shares\\\\\":3482750000.0,\\\\\"Basic Average Shares\\\\\":3173500000.0,\\\\\"Diluted EPS\\\\\":4.31,\\\\\"Basic EPS\\\\\":4.725697,\\\\\"Diluted NI Availto Com Stockholders\\\\\":14999000000.0,\\\\\"Average Dilution Earnings\\\\\":0.0,\\\\\"Net Income Common Stockholders\\\\\":14999000000.0,\\\\\"Otherunder Preferred Stock Dividend\\\\\":null,\\\\\"Net Income\\\\\":14999000000.0,\\\\\"Minority Interests\\\\\":25000000.0,\\\\\"Net Income Including Noncontrolling Interests\\\\\":14974000000.0,\\\\\"Net Income Continuous Operations\\\\\":14974000000.0,\\\\\"Tax Provision\\\\\":-5001000000.0,\\\\\"Pretax Income\\\\\":9973000000.0,\\\\\"Other Income Expense\\\\\":172000000.0,\\\\\"Other Non Operating Income Expenses\\\\\":172000000.0,\\\\\"Special Income Charges\\\\\":0.0,\\\\\"Restructuring And Mergern Acquisition\\\\\":0.0,\\\\\"Net Non Operating Interest Income Expense\\\\\":910000000.0,\\\\\"Interest Expense Non Operating\\\\\":156000000.0,\\\\\"Interest Income Non Operating\\\\\":1066000000.0,\\\\\"Operating Income\\\\\":8891000000.0,\\\\\"Operating Expense\\\\\":8769000000.0,\\\\\"Research And Development\\\\\":3969000000.0,\\\\\"Selling General And Administration\\\\\":4800000000.0,\\\\\"Gross Profit\\\\\":17660000000.0,\\\\\"Cost Of Revenue\\\\\":79113000000.0,\\\\\"Total Revenue\\\\\":96773000000.0,\\\\\"Operating Revenue\\\\\":96773000000.0},\\\\\"1672444800000\\\\\":{\\\\\"Tax Effect Of Unusual Items\\\\\":-14080000.0,\\\\\"Tax Rate For Calcs\\\\\":0.08,\\\\\"Normalized EBITDA\\\\\":17833000000.0,\\\\\"Total Unusual Items\\\\\":-176000000.0,\\\\\"Total Unusual Items Excluding Goodwill\\\\\":-176000000.0,\\\\\"Net Income From Continuing Operation Net Minority Interest\\\\\":12583000000.0,\\\\\"Reconciled Depreciation\\\\\":3747000000.0,\\\\\"Reconciled Cost Of Revenue\\\\\":60609000000.0,\\\\\"EBITDA\\\\\":17657000000.0,\\\\\"EBIT\\\\\":13910000000.0,\\\\\"Net Interest Income\\\\\":106000000.0,\\\\\"Interest Expense\\\\\":191000000.0,\\\\\"Interest Income\\\\\":297000000.0,\\\\\"Normalized Income\\\\\":12744920000.0,\\\\\"Net Income From Continuing And Discontinued Operation\\\\\":12583000000.0,\\\\\"Total Expenses\\\\\":67630000000.0,\\\\\"Rent Expense Supplemental\\\\\":1509000000.0,\\\\\"Total Operating Income As Reported\\\\\":13656000000.0,\\\\\"Diluted Average Shares\\\\\":3475000000.0,\\\\\"Basic Average Shares\\\\\":3130000000.0,\\\\\"Diluted EPS\\\\\":3.62,\\\\\"Basic EPS\\\\\":4.02,\\\\\"Diluted NI Availto Com Stockholders\\\\\":12584000000.0,\\\\\"Average Dilution Earnings\\\\\":1000000.0,\\\\\"Net Income Common Stockholders\\\\\":12583000000.0,\\\\\"Otherunder Preferred Stock Dividend\\\\\":null,\\\\\"Net Income\\\\\":12583000000.0,\\\\\"Minority Interests\\\\\":-4000000.0,\\\\\"Net Income Including Noncontrolling Interests\\\\\":12587000000.0,\\\\\"Net Income Continuous Operations\\\\\":12587000000.0,\\\\\"Tax Provision\\\\\":1132000000.0,\\\\\"Pretax Income\\\\\":13719000000.0,\\\\\"Other Income Expense\\\\\":-219000000.0,\\\\\"Other Non Operating Income Expenses\\\\\":-43000000.0,\\\\\"Special Income Charges\\\\\":-176000000.0,\\\\\"Restructuring And Mergern Acquisition\\\\\":176000000.0,\\\\\"Net Non Operating Interest Income Expense\\\\\":106000000.0,\\\\\"Interest Expense Non Operating\\\\\":191000000.0,\\\\\"Interest Income Non Operating\\\\\":297000000.0,\\\\\"Operating Income\\\\\":13832000000.0,\\\\\"Operating Expense\\\\\":7021000000.0,\\\\\"Research And Development\\\\\":3075000000.0,\\\\\"Selling General And Administration\\\\\":3946000000.0,\\\\\"Gross Profit\\\\\":20853000000.0,\\\\\"Cost Of Revenue\\\\\":60609000000.0,\\\\\"Total Revenue\\\\\":81462000000.0,\\\\\"Operating Revenue\\\\\":81462000000.0},\\\\\"1640908800000\\\\\":{\\\\\"Tax Effect Of Unusual Items\\\\\":2970000.0,\\\\\"Tax Rate For Calcs\\\\\":0.11,\\\\\"Normalized EBITDA\\\\\":9598000000.0,\\\\\"Total Unusual Items\\\\\":27000000.0,\\\\\"Total Unusual Items Excluding Goodwill\\\\\":27000000.0,\\\\\"Net Income From Continuing Operation Net Minority Interest\\\\\":5524000000.0,\\\\\"Reconciled Depreciation\\\\\":2911000000.0,\\\\\"Reconciled Cost Of Revenue\\\\\":40217000000.0,\\\\\"EBITDA\\\\\":9625000000.0,\\\\\"EBIT\\\\\":6714000000.0,\\\\\"Net Interest Income\\\\\":-315000000.0,\\\\\"Interest Expense\\\\\":371000000.0,\\\\\"Interest Income\\\\\":56000000.0,\\\\\"Normalized Income\\\\\":5499970000.0,\\\\\"Net Income From Continuing And Discontinued Operation\\\\\":5524000000.0,\\\\\"Total Expenses\\\\\":47327000000.0,\\\\\"Rent Expense Supplemental\\\\\":978000000.0,\\\\\"Total Operating Income As Reported\\\\\":6523000000.0,\\\\\"Diluted Average Shares\\\\\":3386000000.0,\\\\\"Basic Average Shares\\\\\":2959000000.0,\\\\\"Diluted EPS\\\\\":1.63,\\\\\"Basic EPS\\\\\":1.87,\\\\\"Diluted NI Availto Com Stockholders\\\\\":5533000000.0,\\\\\"Average Dilution Earnings\\\\\":9000000.0,\\\\\"Net Income Common Stockholders\\\\\":5524000000.0,\\\\\"Otherunder Preferred Stock Dividend\\\\\":-5000000.0,\\\\\"Net Income\\\\\":5524000000.0,\\\\\"Minority Interests\\\\\":-120000000.0,\\\\\"Net Income Including Noncontrolling Interests\\\\\":5644000000.0,\\\\\"Net Income Continuous Operations\\\\\":5644000000.0,\\\\\"Tax Provision\\\\\":699000000.0,\\\\\"Pretax Income\\\\\":6343000000.0,\\\\\"Other Income Expense\\\\\":162000000.0,\\\\\"Other Non Operating Income Expenses\\\\\":135000000.0,\\\\\"Special Income Charges\\\\\":27000000.0,\\\\\"Restructuring And Mergern Acquisition\\\\\":-27000000.0,\\\\\"Net Non Operating Interest Income Expense\\\\\":-315000000.0,\\\\\"Interest Expense Non Operating\\\\\":371000000.0,\\\\\"Interest Income Non Operating\\\\\":56000000.0,\\\\\"Operating Income\\\\\":6496000000.0,\\\\\"Operating Expense\\\\\":7110000000.0,\\\\\"Research And Development\\\\\":2593000000.0,\\\\\"Selling General And Administration\\\\\":4517000000.0,\\\\\"Gross Profit\\\\\":13606000000.0,\\\\\"Cost Of Revenue\\\\\":40217000000.0,\\\\\"Total Revenue\\\\\":53823000000.0,\\\\\"Operating Revenue\\\\\":53823000000.0},\\\\\"1609372800000\\\\\":{\\\\\"Tax Effect Of Unusual Items\\\\\":null,\\\\\"Tax Rate For Calcs\\\\\":null,\\\\\"Normalized EBITDA\\\\\":null,\\\\\"Total Unusual Items\\\\\":null,\\\\\"Total Unusual Items Excluding Goodwill\\\\\":null,\\\\\"Net Income From Continuing Operation Net Minority Interest\\\\\":null,\\\\\"Reconciled Depreciation\\\\\":null,\\\\\"Reconciled Cost Of Revenue\\\\\":null,\\\\\"EBITDA\\\\\":null,\\\\\"EBIT\\\\\":null,\\\\\"Net Interest Income\\\\\":null,\\\\\"Interest Expense\\\\\":null,\\\\\"Interest Income\\\\\":null,\\\\\"Normalized Income\\\\\":null,\\\\\"Net Income From Continuing And Discontinued Operation\\\\\":null,\\\\\"Total Expenses\\\\\":null,\\\\\"Rent Expense Supplemental\\\\\":null,\\\\\"Total Operating Income As Reported\\\\\":null,\\\\\"Diluted Average Shares\\\\\":2880000000.0,\\\\\"Basic Average Shares\\\\\":2880000000.0,\\\\\"Diluted EPS\\\\\":0.213333,\\\\\"Basic EPS\\\\\":0.246667,\\\\\"Diluted NI Availto Com Stockholders\\\\\":null,\\\\\"Average Dilution Earnings\\\\\":null,\\\\\"Net Income Common Stockholders\\\\\":null,\\\\\"Otherunder Preferred Stock Dividend\\\\\":31000000.0,\\\\\"Net Income\\\\\":null,\\\\\"Minority Interests\\\\\":null,\\\\\"Net Income Including Noncontrolling Interests\\\\\":null,\\\\\"Net Income Continuous Operations\\\\\":null,\\\\\"Tax Provision\\\\\":null,\\\\\"Pretax Income\\\\\":null,\\\\\"Other Income Expense\\\\\":null,\\\\\"Other Non Operating Income Expenses\\\\\":null,\\\\\"Special Income Charges\\\\\":null,\\\\\"Restructuring And Mergern Acquisition\\\\\":null,\\\\\"Net Non Operating Interest Income Expense\\\\\":null,\\\\\"Interest Expense Non Operating\\\\\":null,\\\\\"Interest Income Non Operating\\\\\":null,\\\\\"Operating Income\\\\\":null,\\\\\"Operating Expense\\\\\":null,\\\\\"Research And Development\\\\\":null,\\\\\"Selling General And Administration\\\\\":null,\\\\\"Gross Profit\\\\\":null,\\\\\"Cost Of Revenue\\\\\":null,\\\\\"Total Revenue\\\\\":null,\\\\\"Operating Revenue\\\\\":null}}\"'"
      ]
     },
     "execution_count": 43,
     "metadata": {},
     "output_type": "execute_result"
    }
   ],
   "source": [
    "get_income_statement({\"ticker\":\"TSLA\"})"
   ]
  },
  {
   "cell_type": "code",
   "execution_count": 44,
   "metadata": {},
   "outputs": [],
   "source": [
    "import openai as client\n",
    "\n",
    "# assistant = client.beta.assistants.create(\n",
    "#     name=\"Investor Assistant\",\n",
    "#     instructions=\"You help users do research on publicly traded companies and you help users decide if they should buy the stock or not.\",\n",
    "#     model=\"gpt-4o\",\n",
    "#     tools=functions,\n",
    "# )\n",
    "# assistant\n",
    "assistant_id = \"asst_KX98Kd6DS7FHWmbrHl30Tsod\""
   ]
  },
  {
   "cell_type": "code",
   "execution_count": 45,
   "metadata": {},
   "outputs": [],
   "source": [
    "thread = client.beta.threads.create()\n",
    "\n",
    "message = client.beta.threads.messages.create(\n",
    "    thread_id=thread.id,\n",
    "    role=\"user\",\n",
    "    content=\"I want to know if the Salesforce stock is a good buy\"\n",
    ")"
   ]
  },
  {
   "cell_type": "code",
   "execution_count": 46,
   "metadata": {},
   "outputs": [
    {
     "data": {
      "text/plain": [
       "Run(id='run_njeEMMEtnfWT3AxEArYAisBZ', assistant_id='asst_KX98Kd6DS7FHWmbrHl30Tsod', cancelled_at=None, completed_at=None, created_at=1740736008, expires_at=1740736608, failed_at=None, incomplete_details=None, instructions='You help users do research on publicly traded companies and you help users decide if they should buy the stock or not.', last_error=None, max_completion_tokens=None, max_prompt_tokens=None, metadata={}, model='gpt-4o', object='thread.run', parallel_tool_calls=True, required_action=RequiredAction(submit_tool_outputs=RequiredActionSubmitToolOutputs(tool_calls=[RequiredActionFunctionToolCall(id='call_ZEN30V6DgFqYgVGgktgZyfM9', function=Function(arguments='{\"company_name\":\"Salesforce\"}', name='get_ticker'), type='function')]), type='submit_tool_outputs'), response_format='auto', started_at=1740736010, status='requires_action', thread_id='thread_xQ4oODxEsimd0GCu3Yy6iIR0', tool_choice='auto', tools=[FunctionTool(function=FunctionDefinition(name='get_ticker', description='Given the name of a company returns its ticker symbol', parameters={'type': 'object', 'properties': {'company_name': {'type': 'string', 'description': 'The name of the company'}}, 'required': ['company_name']}, strict=False), type='function'), FunctionTool(function=FunctionDefinition(name='get_income_statement', description=\"Given a ticker symbol (i.e AAPL) returns the company's income statement.\", parameters={'type': 'object', 'properties': {'ticker': {'type': 'string', 'description': 'Ticker symbol of the company'}}, 'required': ['ticker']}, strict=False), type='function'), FunctionTool(function=FunctionDefinition(name='get_balance_sheet', description=\"Given a ticker symbol (i.e AAPL) returns the company's balance sheet.\", parameters={'type': 'object', 'properties': {'ticker': {'type': 'string', 'description': 'Ticker symbol of the company'}}, 'required': ['ticker']}, strict=False), type='function'), FunctionTool(function=FunctionDefinition(name='get_daily_stock_performance', description='Given a ticker symbol (i.e AAPL) returns the performance of the stock for the last 100 days.', parameters={'type': 'object', 'properties': {'ticker': {'type': 'string', 'description': 'Ticker symbol of the company'}}, 'required': ['ticker']}, strict=False), type='function')], truncation_strategy=TruncationStrategy(type='auto', last_messages=None), usage=None, temperature=1.0, top_p=1.0, tool_resources={}, reasoning_effort=None)"
      ]
     },
     "execution_count": 46,
     "metadata": {},
     "output_type": "execute_result"
    }
   ],
   "source": [
    "run = client.beta.threads.runs.create_and_poll(\n",
    "    thread_id=thread.id,\n",
    "    assistant_id=assistant_id,\n",
    "    instructions=\"You help users do research on publicly traded companies and you help users decide if they should buy the stock or not.\"\n",
    ")\n",
    "run"
   ]
  },
  {
   "cell_type": "code",
   "execution_count": 47,
   "metadata": {},
   "outputs": [],
   "source": [
    "def get_run(run_id, thread_id):\n",
    "    return client.beta.threads.runs.retrieve(\n",
    "        run_id=run_id,\n",
    "        thread_id=thread_id,\n",
    "    )\n",
    "\n",
    "\n",
    "def send_message(thread_id, content):\n",
    "    return client.beta.threads.messages.create(\n",
    "        thread_id=thread_id, role=\"user\", content=content\n",
    "    )\n",
    "\n",
    "\n",
    "def get_messages(thread_id):\n",
    "    messages = client.beta.threads.messages.list(thread_id=thread_id)\n",
    "    messages = list(messages)\n",
    "    messages.reverse()\n",
    "    for message in messages:\n",
    "        print(f\"{message.role}: {message.content[0].text.value}\")\n",
    "\n",
    "\n",
    "def get_tool_outputs(run_id, thread_id):\n",
    "    run = get_run(run_id, thread_id)\n",
    "    outputs = []\n",
    "    for action in run.required_action.submit_tool_outputs.tool_calls:\n",
    "        action_id = action.id\n",
    "        function = action.function\n",
    "        print(f\"Calling function: {function.name} with arg {function.arguments}\")\n",
    "        outputs.append(\n",
    "            {\n",
    "                \"output\": functions_map[function.name](json.loads(function.arguments)),\n",
    "                \"tool_call_id\": action_id,\n",
    "            }\n",
    "        )\n",
    "    return outputs\n",
    "\n",
    "\n",
    "def submit_tool_outputs(run_id, thread_id):\n",
    "    outpus = get_tool_outputs(run_id, thread_id)\n",
    "    return client.beta.threads.runs.submit_tool_outputs(\n",
    "        run_id=run_id,\n",
    "        thread_id=thread_id,\n",
    "        tool_outputs=outpus,\n",
    "    )"
   ]
  },
  {
   "cell_type": "code",
   "execution_count": null,
   "metadata": {},
   "outputs": [],
   "source": [
    "submit_tool_outputs(run.id, thread.id)"
   ]
  },
  {
   "cell_type": "code",
   "execution_count": 49,
   "metadata": {},
   "outputs": [
    {
     "data": {
      "text/plain": [
       "'requires_action'"
      ]
     },
     "execution_count": 49,
     "metadata": {},
     "output_type": "execute_result"
    }
   ],
   "source": [
    "get_run(run.id, thread.id).status"
   ]
  },
  {
   "cell_type": "code",
   "execution_count": 48,
   "metadata": {},
   "outputs": [
    {
     "name": "stdout",
     "output_type": "stream",
     "text": [
      "user: I want to know if the Salesforce stock is a good buy\n"
     ]
    }
   ],
   "source": [
    "get_messages(thread.id)"
   ]
  },
  {
   "cell_type": "code",
   "execution_count": null,
   "metadata": {},
   "outputs": [],
   "source": [
    "send_message(thread.id, \"please go ahead\")"
   ]
  }
 ],
 "metadata": {
  "kernelspec": {
   "display_name": "env",
   "language": "python",
   "name": "python3"
  },
  "language_info": {
   "codemirror_mode": {
    "name": "ipython",
    "version": 3
   },
   "file_extension": ".py",
   "mimetype": "text/x-python",
   "name": "python",
   "nbconvert_exporter": "python",
   "pygments_lexer": "ipython3",
   "version": "3.11.11"
  }
 },
 "nbformat": 4,
 "nbformat_minor": 2
}

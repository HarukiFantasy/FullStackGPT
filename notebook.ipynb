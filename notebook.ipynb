{
 "cells": [
  {
   "cell_type": "code",
   "execution_count": 2,
   "metadata": {},
   "outputs": [
    {
     "name": "stderr",
     "output_type": "stream",
     "text": [
      "/var/folders/dd/dvf_l6wd65n98d8w8p8_w6_w0000gn/T/ipykernel_94861/3562914895.py:24: LangChainDeprecationWarning: The class `ChatOpenAI` was deprecated in LangChain 0.0.10 and will be removed in 1.0. An updated version of the class exists in the :class:`~langchain-openai package and should be used instead. To use it run `pip install -U :class:`~langchain-openai` and import as `from :class:`~langchain_openai import ChatOpenAI``.\n",
      "  llm = ChatOpenAI(\n",
      "/var/folders/dd/dvf_l6wd65n98d8w8p8_w6_w0000gn/T/ipykernel_94861/3562914895.py:31: LangChainDeprecationWarning: Please see the migration guide at: https://python.langchain.com/docs/versions/migrating_memory/\n",
      "  memory = ConversationSummaryMemory(\n"
     ]
    }
   ],
   "source": [
    "from langchain.memory import ConversationSummaryMemory\n",
    "from langchain.chat_models import ChatOpenAI\n",
    "from langchain.schema.runnable import RunnablePassthrough\n",
    "from langchain.prompts import ChatPromptTemplate, MessagesPlaceholder\n",
    "from langchain.prompts.few_shot import FewShotChatMessagePromptTemplate\n",
    "from langchain.callbacks import StreamingStdOutCallbackHandler\n",
    "\n",
    "examples = [\n",
    "    { \"movie\": \"Top Gun\", \"answer\": \"🛩️👨‍✈️🔥\" },\n",
    "    { \"movie\": \"The Godfather\", \"answer\": \" 👨‍👨‍👦🔫🍝\" },\n",
    "    { \"movie\": \"ET\", \"answer\": \"👽🚲🌕\" }\n",
    "]\n",
    "\n",
    "example_prompt = ChatPromptTemplate.from_messages([\n",
    "    (\"human\", \"Give me 3 emojis that represent the movie {movie}\"),\n",
    "    (\"ai\", \"{answer}\")\n",
    "])\n",
    "\n",
    "fewshot_prompt = FewShotChatMessagePromptTemplate(\n",
    "    example_prompt = example_prompt, \n",
    "    examples = examples\n",
    ")\n",
    "\n",
    "llm = ChatOpenAI(\n",
    "    model_name=\"gpt-3.5-turbo\", \n",
    "    temperature=0.1,\n",
    "    streaming=True, \n",
    "    callbacks=[StreamingStdOutCallbackHandler()]\n",
    ")\n",
    "\n",
    "memory = ConversationSummaryMemory(\n",
    "    llm=llm, max_token_limit=80,\n",
    "    memory_key=\"history\",\n",
    "    return_messages=True\n",
    ")\n",
    "\n",
    "prompt = ChatPromptTemplate.from_messages([\n",
    "    (\"system\", \n",
    "        \"You are a movie expert who always responds with 3 emojis representing the movie \"\n",
    "    ),\n",
    "    fewshot_prompt,\n",
    "    MessagesPlaceholder(variable_name=\"history\"),  # Keeps conversation memory\n",
    "    (\"human\", \"Answer the question. If question is the word of movie, then Give me 3 emojis that represent the movie {movie}\")\n",
    "])\n",
    "\n",
    "def load_memory(_):\n",
    "    return memory.load_memory_variables({})[\"history\"]\n",
    "\n",
    "chain = RunnablePassthrough.assign(history=load_memory) | prompt| llm\n",
    "\n",
    "# Function to invoke the chain and store results in memory\n",
    "def invoke_chain(movie):\n",
    "    response = chain.invoke({\"movie\": movie})\n",
    "    memory.save_context(\n",
    "        {\"input\": movie}, \n",
    "        {\"output\": response.content}\n",
    "    )  # Save conversation history\n",
    "    print(response)"
   ]
  },
  {
   "cell_type": "code",
   "execution_count": 3,
   "metadata": {},
   "outputs": [
    {
     "name": "stdout",
     "output_type": "stream",
     "text": [
      "🚀⏳🌌The human mentions \"Interstellar\" and the AI responds with rocket emoji, hourglass emoji, and galaxy emoji.content='🚀⏳🌌' additional_kwargs={} response_metadata={'finish_reason': 'stop'} id='run-e13d8717-9a35-4711-bf77-cfe07fdf06f9-0'\n"
     ]
    }
   ],
   "source": [
    "invoke_chain(\"Interstellar\")"
   ]
  },
  {
   "cell_type": "code",
   "execution_count": 4,
   "metadata": {},
   "outputs": [
    {
     "name": "stdout",
     "output_type": "stream",
     "text": [
      "🕶️💊🔵The human mentions \"Interstellar\" and the AI responds with rocket emoji, hourglass emoji, and galaxy emoji. When the human brings up \"The Matrix,\" the AI responds with sunglasses emoji, pill emoji, and blue circle emoji.content='🕶️💊🔵' additional_kwargs={} response_metadata={'finish_reason': 'stop'} id='run-290ba74d-c257-4fe3-ab08-b96471613260-0'\n"
     ]
    }
   ],
   "source": [
    "invoke_chain(\"The Matrix\")"
   ]
  },
  {
   "cell_type": "code",
   "execution_count": 5,
   "metadata": {},
   "outputs": [
    {
     "name": "stdout",
     "output_type": "stream",
     "text": [
      "🚀⏳🌌The human mentions \"Interstellar\" and the AI responds with rocket emoji, hourglass emoji, and galaxy emoji. When the human brings up \"The Matrix,\" the AI responds with sunglasses emoji, pill emoji, and blue circle emoji. The human asks about the movie mentioned first, and the AI responds with 🚀⏳🌌.content='🚀⏳🌌' additional_kwargs={} response_metadata={'finish_reason': 'stop'} id='run-e571cc78-86d8-46d4-a358-94db429d2202-0'\n"
     ]
    }
   ],
   "source": [
    "invoke_chain(\"What is the movie that I asked first time?\")"
   ]
  }
 ],
 "metadata": {
  "kernelspec": {
   "display_name": "env",
   "language": "python",
   "name": "python3"
  },
  "language_info": {
   "codemirror_mode": {
    "name": "ipython",
    "version": 3
   },
   "file_extension": ".py",
   "mimetype": "text/x-python",
   "name": "python",
   "nbconvert_exporter": "python",
   "pygments_lexer": "ipython3",
   "version": "3.11.11"
  }
 },
 "nbformat": 4,
 "nbformat_minor": 2
}

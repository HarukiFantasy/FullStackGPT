{
 "cells": [
  {
   "cell_type": "code",
   "execution_count": 37,
   "metadata": {},
   "outputs": [
    {
     "name": "stdout",
     "output_type": "stream",
     "text": [
      "In the land of Python, where whitespace reigns,\n",
      "Indentation is key, no curly braces or chains.\n",
      "With lists and tuples, dictionaries and sets,\n",
      "We code with ease, no need to fret.\n",
      "\n",
      "But beware the dreaded syntax error's sting,\n",
      "For even the mightiest coder must debug and bring\n",
      "Their code back to life, with a simple fix,\n",
      "In the world of Python, where bugs play tricks.This poem talks about coding in Python,\n",
      "Where spaces and tabs are what you rely on.\n",
      "No curly braces or chains to be seen,\n",
      "Just lists, dictionaries, and sets in between.\n",
      "\n",
      "But watch out for syntax errors, they can be mean,\n",
      "Even the best coders have to intervene.\n",
      "Fixing bugs is part of the game,\n",
      "In the Python world, where errors are tamed."
     ]
    },
    {
     "data": {
      "text/plain": [
       "AIMessageChunk(content='This poem talks about coding in Python,\\nWhere spaces and tabs are what you rely on.\\nNo curly braces or chains to be seen,\\nJust lists, dictionaries, and sets in between.\\n\\nBut watch out for syntax errors, they can be mean,\\nEven the best coders have to intervene.\\nFixing bugs is part of the game,\\nIn the Python world, where errors are tamed.')"
      ]
     },
     "execution_count": 37,
     "metadata": {},
     "output_type": "execute_result"
    }
   ],
   "source": [
    "from langchain.chat_models import ChatOpenAI\n",
    "from langchain.prompts import ChatPromptTemplate\n",
    "from langchain.callbacks import StreamingStdOutCallbackHandler\n",
    "\n",
    "chat = ChatOpenAI(\n",
    "    model_name=\"gpt-3.5-turbo\", temperature=0.1, \n",
    "    streaming=True, callbacks=[StreamingStdOutCallbackHandler()]\n",
    "    )\n",
    "\n",
    "poet_prompt = ChatPromptTemplate.from_messages([\n",
    "    (\"system\", \"You are a poet who writes about programming language. Main words in poet come from programming language. You write the poet in 5 to 10 lines and it has humor \"),\n",
    "    (\"human\", \"I want to make {programming} language poet\")\n",
    "])\n",
    "\n",
    "comment_prompt = ChatPromptTemplate.from_messages([\n",
    "    (\"system\", \"You are the best poetry commentator and use easy words when explaining\"),\n",
    "    (\"human\", \"{poet}\")\n",
    "])\n",
    "\n",
    "poet_chain = poet_prompt | chat \n",
    "comment_chain = comment_prompt | chat \n",
    "\n",
    "final_chain = {\"poet\" : poet_chain} | comment_chain\n",
    "final_chain.invoke({\n",
    "    \"programming\" : \"Python\"\n",
    "}) "
   ]
  }
 ],
 "metadata": {
  "kernelspec": {
   "display_name": "env",
   "language": "python",
   "name": "python3"
  },
  "language_info": {
   "codemirror_mode": {
    "name": "ipython",
    "version": 3
   },
   "file_extension": ".py",
   "mimetype": "text/x-python",
   "name": "python",
   "nbconvert_exporter": "python",
   "pygments_lexer": "ipython3",
   "version": "3.11.11"
  }
 },
 "nbformat": 4,
 "nbformat_minor": 2
}
